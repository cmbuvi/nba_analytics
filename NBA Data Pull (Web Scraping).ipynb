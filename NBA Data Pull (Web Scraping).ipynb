{
 "cells": [
  {
   "cell_type": "code",
   "execution_count": 1,
   "metadata": {},
   "outputs": [],
   "source": [
    "from urllib.request import urlopen\n",
    "from bs4 import BeautifulSoup\n",
    "import pandas as pd"
   ]
  },
  {
   "cell_type": "code",
   "execution_count": 3,
   "metadata": {},
   "outputs": [],
   "source": [
    "# NBA season we will be analyzing\n",
    "year = 2019\n",
    "# URL page we will scraping (see image above)\n",
    "url = \"https://www.basketball-reference.com/leagues/NBA_{}.html\".format(year)\n",
    "# this is the HTML from the given URL\n",
    "html = urlopen(url)\n",
    "soup = BeautifulSoup(html)"
   ]
  },
  {
   "cell_type": "code",
   "execution_count": 4,
   "metadata": {},
   "outputs": [
    {
     "data": {
      "text/plain": [
       "['W',\n",
       " 'L',\n",
       " 'W/L%',\n",
       " 'GB',\n",
       " 'PS/G',\n",
       " 'PA/G',\n",
       " 'SRS',\n",
       " 'Milwaukee Bucks*',\n",
       " 'Toronto Raptors*',\n",
       " 'Philadelphia 76ers*',\n",
       " 'Boston Celtics*',\n",
       " 'Indiana Pacers*',\n",
       " 'Brooklyn Nets*',\n",
       " 'Orlando Magic*',\n",
       " 'Detroit Pistons*',\n",
       " 'Charlotte Hornets',\n",
       " 'Miami Heat',\n",
       " 'Washington Wizards',\n",
       " 'Atlanta Hawks',\n",
       " 'Chicago Bulls',\n",
       " 'Cleveland Cavaliers',\n",
       " 'New York Knicks',\n",
       " 'Western Conference',\n",
       " 'W',\n",
       " 'L',\n",
       " 'W/L%',\n",
       " 'GB',\n",
       " 'PS/G',\n",
       " 'PA/G',\n",
       " 'SRS',\n",
       " 'Golden State Warriors*',\n",
       " 'Denver Nuggets*',\n",
       " 'Portland Trail Blazers*',\n",
       " 'Houston Rockets*',\n",
       " 'Utah Jazz*',\n",
       " 'Oklahoma City Thunder*',\n",
       " 'San Antonio Spurs*',\n",
       " 'Los Angeles Clippers*',\n",
       " 'Sacramento Kings',\n",
       " 'Los Angeles Lakers',\n",
       " 'Minnesota Timberwolves',\n",
       " 'Memphis Grizzlies',\n",
       " 'New Orleans Pelicans',\n",
       " 'Dallas Mavericks',\n",
       " 'Phoenix Suns',\n",
       " 'Eastern Conference',\n",
       " 'W',\n",
       " 'L',\n",
       " 'W/L%',\n",
       " 'GB',\n",
       " 'PS/G',\n",
       " 'PA/G',\n",
       " 'SRS',\n",
       " 'Atlantic Division',\n",
       " 'Toronto Raptors*',\n",
       " 'Philadelphia 76ers*',\n",
       " 'Boston Celtics*',\n",
       " 'Brooklyn Nets*',\n",
       " 'New York Knicks',\n",
       " 'Central Division',\n",
       " 'Milwaukee Bucks*',\n",
       " 'Indiana Pacers*',\n",
       " 'Detroit Pistons*',\n",
       " 'Chicago Bulls',\n",
       " 'Cleveland Cavaliers',\n",
       " 'Southeast Division',\n",
       " 'Orlando Magic*',\n",
       " 'Charlotte Hornets',\n",
       " 'Miami Heat',\n",
       " 'Washington Wizards',\n",
       " 'Atlanta Hawks',\n",
       " 'Western Conference',\n",
       " 'W',\n",
       " 'L',\n",
       " 'W/L%',\n",
       " 'GB',\n",
       " 'PS/G',\n",
       " 'PA/G',\n",
       " 'SRS',\n",
       " 'Northwest Division',\n",
       " 'Denver Nuggets*',\n",
       " 'Portland Trail Blazers*',\n",
       " 'Utah Jazz*',\n",
       " 'Oklahoma City Thunder*',\n",
       " 'Minnesota Timberwolves',\n",
       " 'Pacific Division',\n",
       " 'Golden State Warriors*',\n",
       " 'Los Angeles Clippers*',\n",
       " 'Sacramento Kings',\n",
       " 'Los Angeles Lakers',\n",
       " 'Phoenix Suns',\n",
       " 'Southwest Division',\n",
       " 'Houston Rockets*',\n",
       " 'San Antonio Spurs*',\n",
       " 'Memphis Grizzlies',\n",
       " 'New Orleans Pelicans',\n",
       " 'Dallas Mavericks']"
      ]
     },
     "execution_count": 4,
     "metadata": {},
     "output_type": "execute_result"
    }
   ],
   "source": [
    "# use findALL() to get the column headers\n",
    "soup.findAll('tr', limit=2)\n",
    "# use getText()to extract the text we need into a list\n",
    "headers = [th.getText() for th in soup.findAll('tr', limit=2)[0].findAll('th')]\n",
    "# exclude the first column as we will not need the ranking order from Basketball Reference for the analysis\n",
    "headers = headers[1:]\n",
    "headers"
   ]
  },
  {
   "cell_type": "code",
   "execution_count": 6,
   "metadata": {},
   "outputs": [
    {
     "ename": "AttributeError",
     "evalue": "'list' object has no attribute 'head'",
     "output_type": "error",
     "traceback": [
      "\u001b[0;31m---------------------------------------------------------------------------\u001b[0m",
      "\u001b[0;31mAttributeError\u001b[0m                            Traceback (most recent call last)",
      "\u001b[0;32m<ipython-input-6-963b9b1edb5a>\u001b[0m in \u001b[0;36m<module>\u001b[0;34m\u001b[0m\n\u001b[1;32m      3\u001b[0m team_stats = [[td.getText() for td in rows[i].findAll('td')]\n\u001b[1;32m      4\u001b[0m             for i in range(len(rows))]\n\u001b[0;32m----> 5\u001b[0;31m \u001b[0mteam_stats\u001b[0m\u001b[0;34m.\u001b[0m\u001b[0mhead\u001b[0m\u001b[0;34m(\u001b[0m\u001b[0;34m)\u001b[0m\u001b[0;34m\u001b[0m\u001b[0;34m\u001b[0m\u001b[0m\n\u001b[0m",
      "\u001b[0;31mAttributeError\u001b[0m: 'list' object has no attribute 'head'"
     ]
    }
   ],
   "source": [
    "# avoid the first header row\n",
    "rows = soup.findAll('tr')[1:]\n",
    "team_stats = [[td.getText() for td in rows[i].findAll('td')]\n",
    "            for i in range(len(rows))]\n",
    "team_stats.head()"
   ]
  }
 ],
 "metadata": {
  "kernelspec": {
   "display_name": "Python 3",
   "language": "python",
   "name": "python3"
  },
  "language_info": {
   "codemirror_mode": {
    "name": "ipython",
    "version": 3
   },
   "file_extension": ".py",
   "mimetype": "text/x-python",
   "name": "python",
   "nbconvert_exporter": "python",
   "pygments_lexer": "ipython3",
   "version": "3.7.3"
  }
 },
 "nbformat": 4,
 "nbformat_minor": 2
}
